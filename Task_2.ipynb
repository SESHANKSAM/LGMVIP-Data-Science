{
 "cells": [
  {
   "cell_type": "markdown",
   "id": "56a2e7b5",
   "metadata": {},
   "source": [
    "# Music Recommendation"
   ]
  },
  {
   "cell_type": "markdown",
   "id": "5608dcfb",
   "metadata": {},
   "source": [
    "# Music recommendar systems can suggest songs to users based on their listening patterns."
   ]
  },
  {
   "cell_type": "markdown",
   "id": "ecb8bead",
   "metadata": {},
   "source": [
    "# Importing Libraries"
   ]
  },
  {
   "cell_type": "code",
   "execution_count": 1,
   "id": "50ab5470",
   "metadata": {},
   "outputs": [
    {
     "name": "stderr",
     "output_type": "stream",
     "text": [
      "[nltk_data] Downloading package punkt to\n",
      "[nltk_data]     C:\\Users\\DELL\\AppData\\Roaming\\nltk_data...\n",
      "[nltk_data]   Package punkt is already up-to-date!\n",
      "[nltk_data] Downloading package averaged_perceptron_tagger to\n",
      "[nltk_data]     C:\\Users\\DELL\\AppData\\Roaming\\nltk_data...\n",
      "[nltk_data]   Package averaged_perceptron_tagger is already up-to-\n",
      "[nltk_data]       date!\n",
      "[nltk_data] Downloading package stopwords to\n",
      "[nltk_data]     C:\\Users\\DELL\\AppData\\Roaming\\nltk_data...\n",
      "[nltk_data]   Package stopwords is already up-to-date!\n",
      "[nltk_data] Downloading package wordnet to\n",
      "[nltk_data]     C:\\Users\\DELL\\AppData\\Roaming\\nltk_data...\n",
      "[nltk_data]   Package wordnet is already up-to-date!\n",
      "[nltk_data] Downloading package maxent_ne_chunker to\n",
      "[nltk_data]     C:\\Users\\DELL\\AppData\\Roaming\\nltk_data...\n",
      "[nltk_data]   Package maxent_ne_chunker is already up-to-date!\n",
      "[nltk_data] Downloading package words to\n",
      "[nltk_data]     C:\\Users\\DELL\\AppData\\Roaming\\nltk_data...\n",
      "[nltk_data]   Package words is already up-to-date!\n",
      "[nltk_data] Downloading package omw to\n",
      "[nltk_data]     C:\\Users\\DELL\\AppData\\Roaming\\nltk_data...\n",
      "[nltk_data]   Package omw is already up-to-date!\n"
     ]
    },
    {
     "name": "stdout",
     "output_type": "stream",
     "text": [
      "All libraries imported\n"
     ]
    }
   ],
   "source": [
    "#!pip install sklearn-recommender\n",
    "#!pip install sklearn-evaluation\n",
    "#!pip install black\n",
    "import pandas as pd\n",
    "import sklearn\n",
    "from sklearn.model_selection import train_test_split\n",
    "import numpy as np\n",
    "import time\n",
    "import joblib\n",
    "#import Recommenders as Recommenders\n",
    "import sklearn_recommender as recommenders\n",
    "import sklearn_evaluation as Evaluation\n",
    "print(\"All libraries imported\")"
   ]
  },
  {
   "cell_type": "markdown",
   "id": "4774fdce",
   "metadata": {},
   "source": [
    "# Collecting datasets"
   ]
  },
  {
   "cell_type": "code",
   "execution_count": 2,
   "id": "8472c4c9",
   "metadata": {},
   "outputs": [],
   "source": [
    "song_df_1=pd.read_csv(r'C:\\Users\\DELL\\Downloads\\kkbox-music-recommendation-challenge\\train.csv')"
   ]
  },
  {
   "cell_type": "code",
   "execution_count": 3,
   "id": "f4aedce3",
   "metadata": {},
   "outputs": [
    {
     "data": {
      "text/html": [
       "<div>\n",
       "<style scoped>\n",
       "    .dataframe tbody tr th:only-of-type {\n",
       "        vertical-align: middle;\n",
       "    }\n",
       "\n",
       "    .dataframe tbody tr th {\n",
       "        vertical-align: top;\n",
       "    }\n",
       "\n",
       "    .dataframe thead th {\n",
       "        text-align: right;\n",
       "    }\n",
       "</style>\n",
       "<table border=\"1\" class=\"dataframe\">\n",
       "  <thead>\n",
       "    <tr style=\"text-align: right;\">\n",
       "      <th></th>\n",
       "      <th>msno</th>\n",
       "      <th>song_id</th>\n",
       "      <th>source_system_tab</th>\n",
       "      <th>source_screen_name</th>\n",
       "      <th>source_type</th>\n",
       "      <th>target</th>\n",
       "    </tr>\n",
       "  </thead>\n",
       "  <tbody>\n",
       "    <tr>\n",
       "      <th>0</th>\n",
       "      <td>FGtllVqz18RPiwJj/edr2gV78zirAiY/9SmYvia+kCg=</td>\n",
       "      <td>BBzumQNXUHKdEBOB7mAJuzok+IJA1c2Ryg/yzTF6tik=</td>\n",
       "      <td>explore</td>\n",
       "      <td>Explore</td>\n",
       "      <td>online-playlist</td>\n",
       "      <td>1</td>\n",
       "    </tr>\n",
       "    <tr>\n",
       "      <th>1</th>\n",
       "      <td>Xumu+NIjS6QYVxDS4/t3SawvJ7viT9hPKXmf0RtLNx8=</td>\n",
       "      <td>bhp/MpSNoqoxOIB+/l8WPqu6jldth4DIpCm3ayXnJqM=</td>\n",
       "      <td>my library</td>\n",
       "      <td>Local playlist more</td>\n",
       "      <td>local-playlist</td>\n",
       "      <td>1</td>\n",
       "    </tr>\n",
       "    <tr>\n",
       "      <th>2</th>\n",
       "      <td>Xumu+NIjS6QYVxDS4/t3SawvJ7viT9hPKXmf0RtLNx8=</td>\n",
       "      <td>JNWfrrC7zNN7BdMpsISKa4Mw+xVJYNnxXh3/Epw7QgY=</td>\n",
       "      <td>my library</td>\n",
       "      <td>Local playlist more</td>\n",
       "      <td>local-playlist</td>\n",
       "      <td>1</td>\n",
       "    </tr>\n",
       "    <tr>\n",
       "      <th>3</th>\n",
       "      <td>Xumu+NIjS6QYVxDS4/t3SawvJ7viT9hPKXmf0RtLNx8=</td>\n",
       "      <td>2A87tzfnJTSWqD7gIZHisolhe4DMdzkbd6LzO1KHjNs=</td>\n",
       "      <td>my library</td>\n",
       "      <td>Local playlist more</td>\n",
       "      <td>local-playlist</td>\n",
       "      <td>1</td>\n",
       "    </tr>\n",
       "    <tr>\n",
       "      <th>4</th>\n",
       "      <td>FGtllVqz18RPiwJj/edr2gV78zirAiY/9SmYvia+kCg=</td>\n",
       "      <td>3qm6XTZ6MOCU11x8FIVbAGH5l5uMkT3/ZalWG1oo2Gc=</td>\n",
       "      <td>explore</td>\n",
       "      <td>Explore</td>\n",
       "      <td>online-playlist</td>\n",
       "      <td>1</td>\n",
       "    </tr>\n",
       "    <tr>\n",
       "      <th>...</th>\n",
       "      <td>...</td>\n",
       "      <td>...</td>\n",
       "      <td>...</td>\n",
       "      <td>...</td>\n",
       "      <td>...</td>\n",
       "      <td>...</td>\n",
       "    </tr>\n",
       "    <tr>\n",
       "      <th>7377413</th>\n",
       "      <td>6xdFzPlrasIDD95mQWXVC3Bg4ptnGYtBl4ztVEZMddU=</td>\n",
       "      <td>VJTxizih/o28kXCbtPbIyWXScoXGvxyYtl6R+0YB5JM=</td>\n",
       "      <td>my library</td>\n",
       "      <td>Local playlist more</td>\n",
       "      <td>local-playlist</td>\n",
       "      <td>1</td>\n",
       "    </tr>\n",
       "    <tr>\n",
       "      <th>7377414</th>\n",
       "      <td>ZxbVmt3Kh/XOH+h58c2Kdj6SjFZk+wnUO006IgWzMQE=</td>\n",
       "      <td>z1mqaU9YOX7T/PFDvUoWozdFq7rC3KwaQP7nFVprjMI=</td>\n",
       "      <td>search</td>\n",
       "      <td>Search</td>\n",
       "      <td>song</td>\n",
       "      <td>0</td>\n",
       "    </tr>\n",
       "    <tr>\n",
       "      <th>7377415</th>\n",
       "      <td>ZxbVmt3Kh/XOH+h58c2Kdj6SjFZk+wnUO006IgWzMQE=</td>\n",
       "      <td>750RprmFfLV0bymtDH88g24pLZGVi5VpBAI300P6UOA=</td>\n",
       "      <td>search</td>\n",
       "      <td>Search</td>\n",
       "      <td>song</td>\n",
       "      <td>1</td>\n",
       "    </tr>\n",
       "    <tr>\n",
       "      <th>7377416</th>\n",
       "      <td>0aH4Hd3ziPSRHClRX8rkeOEaAG5EPPkW1mKGCdXEok0=</td>\n",
       "      <td>G8wgqObgeAMER/rVCIlgcNeQ8mm0CzF/GsxiMK8TTnA=</td>\n",
       "      <td>discover</td>\n",
       "      <td>Discover Genre</td>\n",
       "      <td>online-playlist</td>\n",
       "      <td>1</td>\n",
       "    </tr>\n",
       "    <tr>\n",
       "      <th>7377417</th>\n",
       "      <td>0aH4Hd3ziPSRHClRX8rkeOEaAG5EPPkW1mKGCdXEok0=</td>\n",
       "      <td>Ju0VGkjWeBUZCd7r5Az2hUImhMoWxWLUicOedsmvG0g=</td>\n",
       "      <td>discover</td>\n",
       "      <td>Discover Genre</td>\n",
       "      <td>online-playlist</td>\n",
       "      <td>1</td>\n",
       "    </tr>\n",
       "  </tbody>\n",
       "</table>\n",
       "<p>7377418 rows × 6 columns</p>\n",
       "</div>"
      ],
      "text/plain": [
       "                                                 msno  \\\n",
       "0        FGtllVqz18RPiwJj/edr2gV78zirAiY/9SmYvia+kCg=   \n",
       "1        Xumu+NIjS6QYVxDS4/t3SawvJ7viT9hPKXmf0RtLNx8=   \n",
       "2        Xumu+NIjS6QYVxDS4/t3SawvJ7viT9hPKXmf0RtLNx8=   \n",
       "3        Xumu+NIjS6QYVxDS4/t3SawvJ7viT9hPKXmf0RtLNx8=   \n",
       "4        FGtllVqz18RPiwJj/edr2gV78zirAiY/9SmYvia+kCg=   \n",
       "...                                               ...   \n",
       "7377413  6xdFzPlrasIDD95mQWXVC3Bg4ptnGYtBl4ztVEZMddU=   \n",
       "7377414  ZxbVmt3Kh/XOH+h58c2Kdj6SjFZk+wnUO006IgWzMQE=   \n",
       "7377415  ZxbVmt3Kh/XOH+h58c2Kdj6SjFZk+wnUO006IgWzMQE=   \n",
       "7377416  0aH4Hd3ziPSRHClRX8rkeOEaAG5EPPkW1mKGCdXEok0=   \n",
       "7377417  0aH4Hd3ziPSRHClRX8rkeOEaAG5EPPkW1mKGCdXEok0=   \n",
       "\n",
       "                                              song_id source_system_tab  \\\n",
       "0        BBzumQNXUHKdEBOB7mAJuzok+IJA1c2Ryg/yzTF6tik=           explore   \n",
       "1        bhp/MpSNoqoxOIB+/l8WPqu6jldth4DIpCm3ayXnJqM=        my library   \n",
       "2        JNWfrrC7zNN7BdMpsISKa4Mw+xVJYNnxXh3/Epw7QgY=        my library   \n",
       "3        2A87tzfnJTSWqD7gIZHisolhe4DMdzkbd6LzO1KHjNs=        my library   \n",
       "4        3qm6XTZ6MOCU11x8FIVbAGH5l5uMkT3/ZalWG1oo2Gc=           explore   \n",
       "...                                               ...               ...   \n",
       "7377413  VJTxizih/o28kXCbtPbIyWXScoXGvxyYtl6R+0YB5JM=        my library   \n",
       "7377414  z1mqaU9YOX7T/PFDvUoWozdFq7rC3KwaQP7nFVprjMI=            search   \n",
       "7377415  750RprmFfLV0bymtDH88g24pLZGVi5VpBAI300P6UOA=            search   \n",
       "7377416  G8wgqObgeAMER/rVCIlgcNeQ8mm0CzF/GsxiMK8TTnA=          discover   \n",
       "7377417  Ju0VGkjWeBUZCd7r5Az2hUImhMoWxWLUicOedsmvG0g=          discover   \n",
       "\n",
       "          source_screen_name      source_type  target  \n",
       "0                    Explore  online-playlist       1  \n",
       "1        Local playlist more   local-playlist       1  \n",
       "2        Local playlist more   local-playlist       1  \n",
       "3        Local playlist more   local-playlist       1  \n",
       "4                    Explore  online-playlist       1  \n",
       "...                      ...              ...     ...  \n",
       "7377413  Local playlist more   local-playlist       1  \n",
       "7377414               Search             song       0  \n",
       "7377415               Search             song       1  \n",
       "7377416       Discover Genre  online-playlist       1  \n",
       "7377417       Discover Genre  online-playlist       1  \n",
       "\n",
       "[7377418 rows x 6 columns]"
      ]
     },
     "execution_count": 3,
     "metadata": {},
     "output_type": "execute_result"
    }
   ],
   "source": [
    "song_df_1"
   ]
  },
  {
   "cell_type": "code",
   "execution_count": 4,
   "id": "5f7ca76b",
   "metadata": {},
   "outputs": [],
   "source": [
    "song_df_1.columns=['msno','song_id','source_system_tab','source_screen_name','source_type','target']"
   ]
  },
  {
   "cell_type": "code",
   "execution_count": 6,
   "id": "6767ad66",
   "metadata": {},
   "outputs": [],
   "source": [
    "song_df_2=pd.read_csv(r\"C:\\Users\\DELL\\Downloads\\kkbox-music-recommendation-challenge\\songs.csv\\songs.csv\")"
   ]
  },
  {
   "cell_type": "code",
   "execution_count": 9,
   "id": "2eb963e7",
   "metadata": {},
   "outputs": [],
   "source": [
    "song_df=pd.merge(song_df_1, song_df_2.drop_duplicates(['song_id']),on= \"song_id\", how=\"left\" )"
   ]
  },
  {
   "cell_type": "code",
   "execution_count": 10,
   "id": "7a155da5",
   "metadata": {},
   "outputs": [
    {
     "name": "stdout",
     "output_type": "stream",
     "text": [
      "msno                        0\n",
      "song_id                     0\n",
      "source_system_tab       24849\n",
      "source_screen_name     414804\n",
      "source_type             21539\n",
      "target                      0\n",
      "song_length               114\n",
      "genre_ids              118455\n",
      "artist_name               114\n",
      "composer              1675706\n",
      "lyricist              3178798\n",
      "language                  150\n",
      "dtype: int64\n"
     ]
    }
   ],
   "source": [
    "print(song_df.isnull().sum())"
   ]
  },
  {
   "cell_type": "code",
   "execution_count": 12,
   "id": "daf420f1",
   "metadata": {},
   "outputs": [
    {
     "name": "stdout",
     "output_type": "stream",
     "text": [
      "7377418\n",
      "359966\n"
     ]
    }
   ],
   "source": [
    "print(len(song_df))\n",
    "# print(len(song_df.user_id.unique()))\n",
    "print(len(song_df.song_id.unique()))"
   ]
  },
  {
   "cell_type": "markdown",
   "id": "f17bbfe4",
   "metadata": {},
   "source": [
    "# Splitting data"
   ]
  },
  {
   "cell_type": "code",
   "execution_count": 27,
   "id": "e60923e7",
   "metadata": {},
   "outputs": [
    {
     "data": {
      "text/html": [
       "<div>\n",
       "<style scoped>\n",
       "    .dataframe tbody tr th:only-of-type {\n",
       "        vertical-align: middle;\n",
       "    }\n",
       "\n",
       "    .dataframe tbody tr th {\n",
       "        vertical-align: top;\n",
       "    }\n",
       "\n",
       "    .dataframe thead th {\n",
       "        text-align: right;\n",
       "    }\n",
       "</style>\n",
       "<table border=\"1\" class=\"dataframe\">\n",
       "  <thead>\n",
       "    <tr style=\"text-align: right;\">\n",
       "      <th></th>\n",
       "      <th>msno</th>\n",
       "      <th>song_id</th>\n",
       "      <th>source_system_tab</th>\n",
       "      <th>source_screen_name</th>\n",
       "      <th>source_type</th>\n",
       "      <th>target</th>\n",
       "      <th>song_length</th>\n",
       "      <th>genre_ids</th>\n",
       "      <th>artist_name</th>\n",
       "      <th>composer</th>\n",
       "      <th>lyricist</th>\n",
       "      <th>language</th>\n",
       "    </tr>\n",
       "  </thead>\n",
       "  <tbody>\n",
       "    <tr>\n",
       "      <th>3843411</th>\n",
       "      <td>9w7PPgGoV//eV4YgZesT3JbxB4y0fs728FY77+9Wjn0=</td>\n",
       "      <td>R5i0213XNSEsTUsybyvnqG0iAQL3cR2C2g5ykgDtTUM=</td>\n",
       "      <td>my library</td>\n",
       "      <td>Local playlist more</td>\n",
       "      <td>local-library</td>\n",
       "      <td>1</td>\n",
       "      <td>220682.0</td>\n",
       "      <td>465</td>\n",
       "      <td>BIGBANG TAEYANG</td>\n",
       "      <td>TAEYANG| PK| DEE.P</td>\n",
       "      <td>TABLO</td>\n",
       "      <td>31.0</td>\n",
       "    </tr>\n",
       "    <tr>\n",
       "      <th>2864534</th>\n",
       "      <td>hscYoX9rNseZ77DxVTPXLV18MH03ADYrLi+60bHzMO4=</td>\n",
       "      <td>xaGv2dVp7hpJN03GCpu4vpyO1yoBQFuhEv7tmCjon30=</td>\n",
       "      <td>my library</td>\n",
       "      <td>Local playlist more</td>\n",
       "      <td>local-library</td>\n",
       "      <td>1</td>\n",
       "      <td>308636.0</td>\n",
       "      <td>465</td>\n",
       "      <td>飛兒樂團 (F.I.R.)</td>\n",
       "      <td>A Qin</td>\n",
       "      <td>Xie You-Hui| Yi Jia Yang</td>\n",
       "      <td>3.0</td>\n",
       "    </tr>\n",
       "    <tr>\n",
       "      <th>1104647</th>\n",
       "      <td>j9fkEmI6HvsPhwM8/LgayicH6PTkMzcWEYuEgnA0Peg=</td>\n",
       "      <td>0wnMvzuRrIoQ9hCGdmzJFadO5E1E6SWb/xSl3Il7C74=</td>\n",
       "      <td>search</td>\n",
       "      <td>Search</td>\n",
       "      <td>song</td>\n",
       "      <td>0</td>\n",
       "      <td>217153.0</td>\n",
       "      <td>465</td>\n",
       "      <td>鄧麗君 (Teresa Teng)</td>\n",
       "      <td>An Tai</td>\n",
       "      <td>NaN</td>\n",
       "      <td>3.0</td>\n",
       "    </tr>\n",
       "    <tr>\n",
       "      <th>7110713</th>\n",
       "      <td>L9CL5S3ASPSwPF5M+VlHKFjuWXc6Gaz0Uyko2LCuWkk=</td>\n",
       "      <td>Le29tgmWG9EEyt+2fElCFT05/bzYusTqzAME5PaeUz8=</td>\n",
       "      <td>discover</td>\n",
       "      <td>Discover Feature</td>\n",
       "      <td>song-based-playlist</td>\n",
       "      <td>0</td>\n",
       "      <td>260388.0</td>\n",
       "      <td>465</td>\n",
       "      <td>動力火車 (Power Station)</td>\n",
       "      <td>NaN</td>\n",
       "      <td>NaN</td>\n",
       "      <td>3.0</td>\n",
       "    </tr>\n",
       "    <tr>\n",
       "      <th>3431457</th>\n",
       "      <td>M1CLFS/swFduSj0dThagD+xapZGIahX0ZlsnVRDsUl0=</td>\n",
       "      <td>d7XTApf6wBSWfGz8D7kY7/nxSunQ3mVWdDMLk7WTnJY=</td>\n",
       "      <td>discover</td>\n",
       "      <td>Online playlist more</td>\n",
       "      <td>song-based-playlist</td>\n",
       "      <td>0</td>\n",
       "      <td>263616.0</td>\n",
       "      <td>465</td>\n",
       "      <td>蔡小虎</td>\n",
       "      <td>郭之儀</td>\n",
       "      <td>郭之儀</td>\n",
       "      <td>10.0</td>\n",
       "    </tr>\n",
       "  </tbody>\n",
       "</table>\n",
       "</div>"
      ],
      "text/plain": [
       "                                                 msno  \\\n",
       "3843411  9w7PPgGoV//eV4YgZesT3JbxB4y0fs728FY77+9Wjn0=   \n",
       "2864534  hscYoX9rNseZ77DxVTPXLV18MH03ADYrLi+60bHzMO4=   \n",
       "1104647  j9fkEmI6HvsPhwM8/LgayicH6PTkMzcWEYuEgnA0Peg=   \n",
       "7110713  L9CL5S3ASPSwPF5M+VlHKFjuWXc6Gaz0Uyko2LCuWkk=   \n",
       "3431457  M1CLFS/swFduSj0dThagD+xapZGIahX0ZlsnVRDsUl0=   \n",
       "\n",
       "                                              song_id source_system_tab  \\\n",
       "3843411  R5i0213XNSEsTUsybyvnqG0iAQL3cR2C2g5ykgDtTUM=        my library   \n",
       "2864534  xaGv2dVp7hpJN03GCpu4vpyO1yoBQFuhEv7tmCjon30=        my library   \n",
       "1104647  0wnMvzuRrIoQ9hCGdmzJFadO5E1E6SWb/xSl3Il7C74=            search   \n",
       "7110713  Le29tgmWG9EEyt+2fElCFT05/bzYusTqzAME5PaeUz8=          discover   \n",
       "3431457  d7XTApf6wBSWfGz8D7kY7/nxSunQ3mVWdDMLk7WTnJY=          discover   \n",
       "\n",
       "           source_screen_name          source_type  target  song_length  \\\n",
       "3843411   Local playlist more        local-library       1     220682.0   \n",
       "2864534   Local playlist more        local-library       1     308636.0   \n",
       "1104647                Search                 song       0     217153.0   \n",
       "7110713      Discover Feature  song-based-playlist       0     260388.0   \n",
       "3431457  Online playlist more  song-based-playlist       0     263616.0   \n",
       "\n",
       "        genre_ids           artist_name            composer  \\\n",
       "3843411       465       BIGBANG TAEYANG  TAEYANG| PK| DEE.P   \n",
       "2864534       465         飛兒樂團 (F.I.R.)               A Qin   \n",
       "1104647       465     鄧麗君 (Teresa Teng)              An Tai   \n",
       "7110713       465  動力火車 (Power Station)                 NaN   \n",
       "3431457       465                   蔡小虎                 郭之儀   \n",
       "\n",
       "                         lyricist  language  \n",
       "3843411                     TABLO      31.0  \n",
       "2864534  Xie You-Hui| Yi Jia Yang       3.0  \n",
       "1104647                       NaN       3.0  \n",
       "7110713                       NaN       3.0  \n",
       "3431457                       郭之儀      10.0  "
      ]
     },
     "execution_count": 27,
     "metadata": {},
     "output_type": "execute_result"
    }
   ],
   "source": [
    "train_data,test_data=train_test_split(song_df,test_size=0.2,random_state=0)\n",
    "train_data.head()\n",
    "#test_data.head()"
   ]
  },
  {
   "cell_type": "markdown",
   "id": "b1a4e7da",
   "metadata": {},
   "source": [
    "# Popularity based recommendor system model"
   ]
  },
  {
   "cell_type": "code",
   "execution_count": 28,
   "id": "52fe6da3",
   "metadata": {},
   "outputs": [
    {
     "data": {
      "text/html": [
       "<div>\n",
       "<style scoped>\n",
       "    .dataframe tbody tr th:only-of-type {\n",
       "        vertical-align: middle;\n",
       "    }\n",
       "\n",
       "    .dataframe tbody tr th {\n",
       "        vertical-align: top;\n",
       "    }\n",
       "\n",
       "    .dataframe thead th {\n",
       "        text-align: right;\n",
       "    }\n",
       "</style>\n",
       "<table border=\"1\" class=\"dataframe\">\n",
       "  <thead>\n",
       "    <tr style=\"text-align: right;\">\n",
       "      <th></th>\n",
       "      <th>target</th>\n",
       "      <th>song_length</th>\n",
       "      <th>language</th>\n",
       "    </tr>\n",
       "  </thead>\n",
       "  <tbody>\n",
       "    <tr>\n",
       "      <th>count</th>\n",
       "      <td>5.901934e+06</td>\n",
       "      <td>5.901849e+06</td>\n",
       "      <td>5.901815e+06</td>\n",
       "    </tr>\n",
       "    <tr>\n",
       "      <th>mean</th>\n",
       "      <td>5.035343e-01</td>\n",
       "      <td>2.451223e+05</td>\n",
       "      <td>1.860563e+01</td>\n",
       "    </tr>\n",
       "    <tr>\n",
       "      <th>std</th>\n",
       "      <td>4.999876e-01</td>\n",
       "      <td>6.711356e+04</td>\n",
       "      <td>2.117601e+01</td>\n",
       "    </tr>\n",
       "    <tr>\n",
       "      <th>min</th>\n",
       "      <td>0.000000e+00</td>\n",
       "      <td>1.393000e+03</td>\n",
       "      <td>-1.000000e+00</td>\n",
       "    </tr>\n",
       "    <tr>\n",
       "      <th>25%</th>\n",
       "      <td>0.000000e+00</td>\n",
       "      <td>2.147260e+05</td>\n",
       "      <td>3.000000e+00</td>\n",
       "    </tr>\n",
       "    <tr>\n",
       "      <th>50%</th>\n",
       "      <td>1.000000e+00</td>\n",
       "      <td>2.418120e+05</td>\n",
       "      <td>3.000000e+00</td>\n",
       "    </tr>\n",
       "    <tr>\n",
       "      <th>75%</th>\n",
       "      <td>1.000000e+00</td>\n",
       "      <td>2.721600e+05</td>\n",
       "      <td>5.200000e+01</td>\n",
       "    </tr>\n",
       "    <tr>\n",
       "      <th>max</th>\n",
       "      <td>1.000000e+00</td>\n",
       "      <td>1.080006e+07</td>\n",
       "      <td>5.900000e+01</td>\n",
       "    </tr>\n",
       "  </tbody>\n",
       "</table>\n",
       "</div>"
      ],
      "text/plain": [
       "             target   song_length      language\n",
       "count  5.901934e+06  5.901849e+06  5.901815e+06\n",
       "mean   5.035343e-01  2.451223e+05  1.860563e+01\n",
       "std    4.999876e-01  6.711356e+04  2.117601e+01\n",
       "min    0.000000e+00  1.393000e+03 -1.000000e+00\n",
       "25%    0.000000e+00  2.147260e+05  3.000000e+00\n",
       "50%    1.000000e+00  2.418120e+05  3.000000e+00\n",
       "75%    1.000000e+00  2.721600e+05  5.200000e+01\n",
       "max    1.000000e+00  1.080006e+07  5.900000e+01"
      ]
     },
     "execution_count": 28,
     "metadata": {},
     "output_type": "execute_result"
    }
   ],
   "source": [
    "train_data.describe()\n",
    "#train_data.describe(train_data.count)"
   ]
  },
  {
   "cell_type": "markdown",
   "id": "30f70b5a",
   "metadata": {},
   "source": [
    "# Popular songs"
   ]
  },
  {
   "cell_type": "code",
   "execution_count": 29,
   "id": "151084fe",
   "metadata": {},
   "outputs": [
    {
     "name": "stdout",
     "output_type": "stream",
     "text": [
      "hello user these are the popular 10 songs\n",
      "reXuGcEWDDCnL0K3Th//3DFG4S1ACSpJMzA+CFipo1g=    11272\n",
      "T86YHdD4C9JSc274b1IlMkLuNdz4BQRB50fWWE7hx9g=    10581\n",
      "wBTWuHbjdjxnG1lQcbqnK4FddV24rUhuyrYLd9c/hmk=    10506\n",
      "FynUyq0+drmIARmK1JZ/qcjNZ7DKkqTY6/0O0lTzNUI=    10334\n",
      "PgRtmmESVNtWjoZHO5a1r21vIz9sVZmcJJpFCbRa1LI=     9573\n",
      "YN4T/yvvXtYrBVN8KTnieiQohHL3T9fnzUkbLWcgLro=     9511\n",
      "M9rAajz4dYuRhZ7jLvf9RRayVA3os61X/XXHEuW4giA=     9462\n",
      "U9kojfZSKaiWOW94PKh1Riyv/zUWxmBRmv0XInQWLGw=     9213\n",
      "43Qm2YzsP99P5wm37B1JIhezUcQ/1CDjYlQx6rBbz2U=     8919\n",
      "cy10N2j2sdY/X4BDUcMu2Iumfz7pV3tqE5iEaup2yGI=     8643\n",
      "Name: song_id, dtype: int64\n",
      "\n",
      "least listened songs\n"
     ]
    },
    {
     "data": {
      "text/plain": [
       "0DzSfXw40Qfjihj4WUUOvQMafllc4qKJ+3kK/TWJZ30=    1\n",
       "Ta4aXIj9I3IR3lPOLMAE9wvAysMuP46lL6JlAHuntNY=    1\n",
       "3XRz9HXQfcg4GUzQf8nVbBKkWJ8O/QFY9FEY/ikV3Ws=    1\n",
       "AMhYpf+e6hBlnvsODJETxlTfcx0/eL+zx9aNfiFnYaQ=    1\n",
       "TlAEYEzJt2GJRKs+KeDcng22vfJ8hTYaqJcvos63Z4c=    1\n",
       "e0X0rMzSKU/k06RtxGNZ1o/cd5Iqwm0kUVYYBtkQAh8=    1\n",
       "FqPB+qekvVOCW4+aCOobk4haRVDqfVBk5uSt8EpxMTU=    1\n",
       "jLtMAJwtkRds7QU3uCHZO5MnpDymAS7hEXpgwYsJT50=    1\n",
       "pG39Aa6xNNUbWVctusO9Xqofj8Jc+9WOVHOOoiHNW2U=    1\n",
       "EDSRbAFUrrrIcCpD8osoVcuHLJldIK/sARHm3xhZifg=    1\n",
       "Name: song_id, dtype: int64"
      ]
     },
     "execution_count": 29,
     "metadata": {},
     "output_type": "execute_result"
    }
   ],
   "source": [
    "popular_songs=train_data['song_id'].value_counts()\n",
    "print(\"hello user these are the popular 10 songs\")\n",
    "print(popular_songs.head(10))\n",
    "print(\"\\nleast listened songs\")\n",
    "popular_songs.tail(10)"
   ]
  },
  {
   "cell_type": "code",
   "execution_count": 34,
   "id": "42f9dfc1",
   "metadata": {},
   "outputs": [
    {
     "ename": "KeyError",
     "evalue": "'0wnMvzuRrIoQ9hCGdmzJFadO5E1E6SWb/xSl3Il7C74'",
     "output_type": "error",
     "traceback": [
      "\u001b[1;31m---------------------------------------------------------------------------\u001b[0m",
      "\u001b[1;31mKeyError\u001b[0m                                  Traceback (most recent call last)",
      "\u001b[1;32m~\\AppData\\Local\\Temp/ipykernel_3980/3758259894.py\u001b[0m in \u001b[0;36m<module>\u001b[1;34m\u001b[0m\n\u001b[0;32m      1\u001b[0m \u001b[0msong_grp\u001b[0m\u001b[1;33m=\u001b[0m\u001b[0mtrain_data\u001b[0m\u001b[1;33m.\u001b[0m\u001b[0mgroupby\u001b[0m\u001b[1;33m(\u001b[0m\u001b[1;33m[\u001b[0m\u001b[1;34m'song_id'\u001b[0m\u001b[1;33m]\u001b[0m\u001b[1;33m)\u001b[0m\u001b[1;33m\u001b[0m\u001b[1;33m\u001b[0m\u001b[0m\n\u001b[1;32m----> 2\u001b[1;33m \u001b[0msong_grp\u001b[0m\u001b[1;33m.\u001b[0m\u001b[0mget_group\u001b[0m\u001b[1;33m(\u001b[0m\u001b[1;34m'0wnMvzuRrIoQ9hCGdmzJFadO5E1E6SWb/xSl3Il7C74'\u001b[0m\u001b[1;33m)\u001b[0m\u001b[1;33m\u001b[0m\u001b[1;33m\u001b[0m\u001b[0m\n\u001b[0m",
      "\u001b[1;32mE:\\Users\\DELL\\anaconda3\\lib\\site-packages\\pandas\\core\\groupby\\groupby.py\u001b[0m in \u001b[0;36mget_group\u001b[1;34m(self, name, obj)\u001b[0m\n\u001b[0;32m    752\u001b[0m         \u001b[0minds\u001b[0m \u001b[1;33m=\u001b[0m \u001b[0mself\u001b[0m\u001b[1;33m.\u001b[0m\u001b[0m_get_index\u001b[0m\u001b[1;33m(\u001b[0m\u001b[0mname\u001b[0m\u001b[1;33m)\u001b[0m\u001b[1;33m\u001b[0m\u001b[1;33m\u001b[0m\u001b[0m\n\u001b[0;32m    753\u001b[0m         \u001b[1;32mif\u001b[0m \u001b[1;32mnot\u001b[0m \u001b[0mlen\u001b[0m\u001b[1;33m(\u001b[0m\u001b[0minds\u001b[0m\u001b[1;33m)\u001b[0m\u001b[1;33m:\u001b[0m\u001b[1;33m\u001b[0m\u001b[1;33m\u001b[0m\u001b[0m\n\u001b[1;32m--> 754\u001b[1;33m             \u001b[1;32mraise\u001b[0m \u001b[0mKeyError\u001b[0m\u001b[1;33m(\u001b[0m\u001b[0mname\u001b[0m\u001b[1;33m)\u001b[0m\u001b[1;33m\u001b[0m\u001b[1;33m\u001b[0m\u001b[0m\n\u001b[0m\u001b[0;32m    755\u001b[0m \u001b[1;33m\u001b[0m\u001b[0m\n\u001b[0;32m    756\u001b[0m         \u001b[1;32mreturn\u001b[0m \u001b[0mobj\u001b[0m\u001b[1;33m.\u001b[0m\u001b[0m_take_with_is_copy\u001b[0m\u001b[1;33m(\u001b[0m\u001b[0minds\u001b[0m\u001b[1;33m,\u001b[0m \u001b[0maxis\u001b[0m\u001b[1;33m=\u001b[0m\u001b[0mself\u001b[0m\u001b[1;33m.\u001b[0m\u001b[0maxis\u001b[0m\u001b[1;33m)\u001b[0m\u001b[1;33m\u001b[0m\u001b[1;33m\u001b[0m\u001b[0m\n",
      "\u001b[1;31mKeyError\u001b[0m: '0wnMvzuRrIoQ9hCGdmzJFadO5E1E6SWb/xSl3Il7C74'"
     ]
    }
   ],
   "source": [
    "song_grp=train_data.groupby(['song_id'])\n",
    "song_grp.get_group('0wnMvzuRrIoQ9hCGdmzJFadO5E1E6SWb/xSl3Il7C74')"
   ]
  },
  {
   "cell_type": "code",
   "execution_count": null,
   "id": "77893c40",
   "metadata": {},
   "outputs": [],
   "source": []
  }
 ],
 "metadata": {
  "kernelspec": {
   "display_name": "Python 3 (ipykernel)",
   "language": "python",
   "name": "python3"
  },
  "language_info": {
   "codemirror_mode": {
    "name": "ipython",
    "version": 3
   },
   "file_extension": ".py",
   "mimetype": "text/x-python",
   "name": "python",
   "nbconvert_exporter": "python",
   "pygments_lexer": "ipython3",
   "version": "3.9.7"
  }
 },
 "nbformat": 4,
 "nbformat_minor": 5
}
